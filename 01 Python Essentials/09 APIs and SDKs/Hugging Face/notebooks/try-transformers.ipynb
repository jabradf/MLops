{
 "cells": [
  {
   "cell_type": "markdown",
   "metadata": {},
   "source": [
    "## Trying 🤗 HuggingFace Transformers\n",
    "Huggingface is a platform that builds APIs and packages for machine learning.\n",
    "Make sure you install the dependencies from `requirements.txt` before executing cells in this notebook."
   ]
  },
  {
   "cell_type": "code",
   "execution_count": 3,
   "metadata": {},
   "outputs": [],
   "source": [
    "import warnings\n",
    "warnings.filterwarnings('ignore')\n",
    "from transformers import pipeline"
   ]
  },
  {
   "cell_type": "markdown",
   "metadata": {},
   "source": [
    "Define the generator pipeline. In this case, use the `text2text` for NLP processing"
   ]
  },
  {
   "cell_type": "code",
   "execution_count": 4,
   "metadata": {},
   "outputs": [
    {
     "name": "stderr",
     "output_type": "stream",
     "text": [
      "Downloading model.safetensors: 100%|██████████| 892M/892M [00:19<00:00, 46.7MB/s] \n",
      "Downloading (…)neration_config.json: 100%|██████████| 147/147 [00:00<?, ?B/s] \n",
      "Downloading (…)ve/main/spiece.model: 100%|██████████| 792k/792k [00:00<00:00, 5.98MB/s]\n",
      "Downloading (…)/main/tokenizer.json: 100%|██████████| 1.39M/1.39M [00:00<00:00, 10.8MB/s]\n"
     ]
    }
   ],
   "source": [
    "generator = pipeline(\"text2text-generation\", model=\"t5-base\")"
   ]
  },
  {
   "cell_type": "code",
   "execution_count": 5,
   "metadata": {},
   "outputs": [
    {
     "data": {
      "text/plain": [
       "[{'generated_text': 'machine learning is a key to a successful production environment . a foundational process'}]"
      ]
     },
     "execution_count": 5,
     "metadata": {},
     "output_type": "execute_result"
    }
   ],
   "source": [
    "# Summarize\n",
    "generator(\"summarize: Machine Learning in production environments is largely seen as the ultimate goal. Sometimes, deploying models can be difficult when automation is not part of the workflow. Creating a foundational process that is reliable and automated is complex and requires commitment from the team and the organization as a whole\")"
   ]
  },
  {
   "cell_type": "code",
   "execution_count": 6,
   "metadata": {},
   "outputs": [
    {
     "data": {
      "text/plain": [
       "[{'generated_text': 'positive'}]"
      ]
     },
     "execution_count": 6,
     "metadata": {},
     "output_type": "execute_result"
    }
   ],
   "source": [
    "# Sentiment\n",
    "generator(\"sst2 sentence: Automation takes hard work but allows you to have a solid deployment\")"
   ]
  },
  {
   "cell_type": "code",
   "execution_count": 7,
   "metadata": {},
   "outputs": [
    {
     "data": {
      "text/plain": [
       "[{'generated_text': 'negative'}]"
      ]
     },
     "execution_count": 7,
     "metadata": {},
     "output_type": "execute_result"
    }
   ],
   "source": [
    "# Sentiment2\n",
    "generator(\"sst2 sentence: Automation is a pile of hard work that doesn't offer many benefits when the project is small or not repeatable.\")"
   ]
  },
  {
   "cell_type": "code",
   "execution_count": 8,
   "metadata": {},
   "outputs": [
    {
     "data": {
      "text/plain": [
       "[{'generated_text': 'not_entailment'}]"
      ]
     },
     "execution_count": 8,
     "metadata": {},
     "output_type": "execute_result"
    }
   ],
   "source": [
    "# Questions\n",
    "generator(\"question: Is deploying models into production hard?\")\n",
    "# This question is too open, we need to explore better questions. The model would also only be able to generate answers within a narrow field."
   ]
  },
  {
   "cell_type": "code",
   "execution_count": 16,
   "metadata": {},
   "outputs": [
    {
     "data": {
      "text/plain": [
       "[{'generated_text': 'Automatisierung erfordert harte Arbeit, aber ermöglicht Ihnen einen soliden Einsatz'}]"
      ]
     },
     "execution_count": 16,
     "metadata": {},
     "output_type": "execute_result"
    }
   ],
   "source": [
    "# Translation\n",
    "generator(\"translate English to German: Automation takes hard work but allows you to have a solid deployment\")\n",
    "\n",
    "# only seems to generate for French and German."
   ]
  },
  {
   "cell_type": "markdown",
   "metadata": {},
   "source": [
    "You can create other generation objects by calling in other models as well"
   ]
  },
  {
   "cell_type": "code",
   "execution_count": 17,
   "metadata": {},
   "outputs": [
    {
     "name": "stderr",
     "output_type": "stream",
     "text": [
      "Downloading (…)lve/main/config.json: 100%|██████████| 665/665 [00:00<00:00, 672kB/s]\n",
      "Downloading model.safetensors: 100%|██████████| 548M/548M [00:09<00:00, 55.9MB/s] \n",
      "Downloading (…)neration_config.json: 100%|██████████| 124/124 [00:00<?, ?B/s] \n",
      "Downloading (…)olve/main/vocab.json: 100%|██████████| 1.04M/1.04M [00:00<00:00, 4.64MB/s]\n",
      "Downloading (…)olve/main/merges.txt: 100%|██████████| 456k/456k [00:00<00:00, 2.18MB/s]\n",
      "Downloading (…)/main/tokenizer.json: 100%|██████████| 1.36M/1.36M [00:00<00:00, 6.18MB/s]\n"
     ]
    }
   ],
   "source": [
    "gpt2_generator = pipeline(\"text-generation\", model=\"gpt2\")"
   ]
  },
  {
   "cell_type": "code",
   "execution_count": 18,
   "metadata": {},
   "outputs": [
    {
     "name": "stderr",
     "output_type": "stream",
     "text": [
      "Setting `pad_token_id` to `eos_token_id`:50256 for open-end generation.\n"
     ]
    },
    {
     "data": {
      "text/plain": [
       "[{'generated_text': \"some phrase here was thought to be 'a very high level of stupidity', but is there evidence that it can be true? Is there still an actual science behind it?\\n\\nThe scientific approach by which we evaluate a hypothesis is called 'biomarker hypothesis'. Our goal is for the hypotheses to describe something (like a structure) which, however 'true' may seem, has not yet been empirically confirmed.\\n\\nSo, for example, to compare a hypothesis to other hypotheses of a'model' of some kind: we'll have to look at the assumptions they make about the model. We'll have to know where the hypothesis places itself, or the relationships it creates.\\n\\nWe'll need to have some kind of predictive model to test for it:\\n\\nFor example, a model to measure the speed of light may need to be useful when our model may be false. If our model is a model that looks out over the world, there will have to be some type of relationship between the model and the data that could be used to estimate the value of the speed of light, or of any other relation.\\n\\nFor example, if one has a model whose only effect of measuring the velocity of light is to find the number of seconds from dawn, to measure light with respect to the Earth, it may also need to be useful when such a model is false.\\n\\nAnother thing to consider here is whether these models need to be predictive of any type of data.\\n\\nThere is so many information structures that are made up of data. It might be possible to describe an effect of any one of these. And, if they are, then the model is well suited to describing the model in the data that's already been described as 'true'.\\n\\xa0But, with only a small sample size at the moment – or, if they are'real', we have to rely on other information structures for generalisation, when all of those available in the dataset and from other data structures can come together to form a whole data structure. (I haven't had an example of such a modelling approach. I'm happy to say the example is based on a relatively simple way of modeling information: using the properties of 'probable' objects using an implicit model of human movement for instance – the information structure used would have, after all, already been modeled by a very large range of tools – but for example and even if I'm right about one particular point, the system would still not be clear about something else.)\\n\\nThe first point is that\"}]"
      ]
     },
     "execution_count": 18,
     "metadata": {},
     "output_type": "execute_result"
    }
   ],
   "source": [
    "gpt2_generator(\"some phrase here was thought to be\", max_new_tokens=512)"
   ]
  }
 ],
 "metadata": {
  "kernelspec": {
   "display_name": "Python 3.9.13 ('huggingface')",
   "language": "python",
   "name": "python3"
  },
  "language_info": {
   "codemirror_mode": {
    "name": "ipython",
    "version": 3
   },
   "file_extension": ".py",
   "mimetype": "text/x-python",
   "name": "python",
   "nbconvert_exporter": "python",
   "pygments_lexer": "ipython3",
   "version": "3.11.6"
  },
  "orig_nbformat": 4,
  "vscode": {
   "interpreter": {
    "hash": "920d5173f2c6743f2c8a5baff36bfaa747ac4cb3d34512c636ba17b43fdf31dc"
   }
  }
 },
 "nbformat": 4,
 "nbformat_minor": 2
}
