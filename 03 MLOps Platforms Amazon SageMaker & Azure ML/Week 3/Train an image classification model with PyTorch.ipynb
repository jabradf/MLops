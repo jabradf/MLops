{
 "cells": [
  {
   "cell_type": "markdown",
   "metadata": {},
   "source": [
    "# Train an image classification model with PyTorch\n",
    "## Background\n",
    "Image classification (or Image recognition) is a subdomain of computer vision in which an algorithm looks at an image and assigns it a tag from a collection of predefined tags or categories that it has been trained on.\n",
    "\n",
    "Vision is responsible for 80-85 percent of our perception of the world, and we, as human beings, trivially perform classification daily on whatever data we come across.\n",
    "\n",
    "Therefore, emulating a classification task with the help of neural networks is one of the first uses of computer vision that researchers thought about.\n",
    "\n",
    "## Pytorch\n",
    "[PyTorch](https://pytorch.org/) is an open-source machine learning library based on the Torch library, used for applications such as computer vision and natural language processing, primarily developed by Facebook's AI Research lab (FAIR). It is free and open-source software released under the Modified BSD license.\n",
    "\n",
    "## KMINST dataset\n",
    "In this notebook we will use the KMINST dataset https://pytorch.org/vision/stable/datasets.html#torchvision-datasets\n",
    "\n",
    "\n",
    "## Steps in this notebook\n",
    "The main steps are:\n",
    "* install packages\n",
    "* load dataset, what's train and test loader\n",
    "* print out 1 image from KMINST dataset, with which library,\n",
    "* initiate the NN model, what's neural network, furthor reading: mlu-cv course\n",
    "* train a model with config\n",
    "* test a model\n",
    "* print a figure with train and test loss\n",
    "\n",
    "![examples](kmnist_examples.png)"
   ]
  },
  {
   "cell_type": "markdown",
   "metadata": {},
   "source": [
    "* Install python packages for later use\n",
    "  * torch: for install PyTorch. [PyTorch](https://pytorch.org/) is a Python package that provides two high-level features: (1) Tensor computation (like NumPy) with strong GPU acceleration (2) Deep neural networks built on a tape-based autograd system\n",
    "  * torchvision:\n",
    "  * torchsummary:\n",
    "  * matplotlib:\n",
    "\n",
    "Before running this notebook we need to install the required Python packages by opening a terminal window (click on File/New/Terminal) going to the location where the env_cv.yml file is located and launching the following two commands:\n",
    "* `conda env create -f env_cv.yml`\n",
    "* `conda activate cv`\n",
    "After that we also need to switch the notebook kernel (click on Kernel/Change Kernel...) to __.conda-cv:Python__"
   ]
  },
  {
   "cell_type": "code",
   "execution_count": null,
   "metadata": {},
   "outputs": [],
   "source": [
    "# Uncomment these lines if you do not want to use the env_cv.yml file\n",
    "%pip install torch \n",
    "%pip install torchvision\n",
    "%pip install torchsummary\n",
    "%pip install matplotlib\n",
    "%pip install ipywidgets"
   ]
  },
  {
   "cell_type": "code",
   "execution_count": 2,
   "metadata": {},
   "outputs": [],
   "source": [
    "import torch\n",
    "import torchvision"
   ]
  },
  {
   "cell_type": "code",
   "execution_count": 3,
   "metadata": {},
   "outputs": [],
   "source": [
    "if torch.cuda.is_available():  \n",
    "    device = \"cuda:0\" \n",
    "else:  \n",
    "    device = \"cpu\" "
   ]
  },
  {
   "cell_type": "code",
   "execution_count": 4,
   "metadata": {},
   "outputs": [],
   "source": [
    "import os\n",
    "results_dir='results'\n",
    "if not os.path.isdir(results_dir):\n",
    "    !mkdir -p {results_dir}"
   ]
  },
  {
   "cell_type": "code",
   "execution_count": 5,
   "metadata": {},
   "outputs": [
    {
     "name": "stdout",
     "output_type": "stream",
     "text": [
      "Downloading http://codh.rois.ac.jp/kmnist/dataset/kmnist/train-images-idx3-ubyte.gz\n",
      "Downloading http://codh.rois.ac.jp/kmnist/dataset/kmnist/train-images-idx3-ubyte.gz to dataset/KMNIST\\raw\\train-images-idx3-ubyte.gz\n"
     ]
    },
    {
     "name": "stderr",
     "output_type": "stream",
     "text": [
      "100%|██████████| 18165135/18165135 [00:08<00:00, 2114548.56it/s]\n"
     ]
    },
    {
     "name": "stdout",
     "output_type": "stream",
     "text": [
      "Extracting dataset/KMNIST\\raw\\train-images-idx3-ubyte.gz to dataset/KMNIST\\raw\n",
      "\n",
      "Downloading http://codh.rois.ac.jp/kmnist/dataset/kmnist/train-labels-idx1-ubyte.gz\n",
      "Downloading http://codh.rois.ac.jp/kmnist/dataset/kmnist/train-labels-idx1-ubyte.gz to dataset/KMNIST\\raw\\train-labels-idx1-ubyte.gz\n"
     ]
    },
    {
     "name": "stderr",
     "output_type": "stream",
     "text": [
      "100%|██████████| 29497/29497 [00:00<00:00, 200699.48it/s]\n"
     ]
    },
    {
     "name": "stdout",
     "output_type": "stream",
     "text": [
      "Extracting dataset/KMNIST\\raw\\train-labels-idx1-ubyte.gz to dataset/KMNIST\\raw\n",
      "\n",
      "Downloading http://codh.rois.ac.jp/kmnist/dataset/kmnist/t10k-images-idx3-ubyte.gz\n",
      "Downloading http://codh.rois.ac.jp/kmnist/dataset/kmnist/t10k-images-idx3-ubyte.gz to dataset/KMNIST\\raw\\t10k-images-idx3-ubyte.gz\n"
     ]
    },
    {
     "name": "stderr",
     "output_type": "stream",
     "text": [
      "100%|██████████| 3041136/3041136 [00:03<00:00, 950606.35it/s] \n"
     ]
    },
    {
     "name": "stdout",
     "output_type": "stream",
     "text": [
      "Extracting dataset/KMNIST\\raw\\t10k-images-idx3-ubyte.gz to dataset/KMNIST\\raw\n",
      "\n",
      "Downloading http://codh.rois.ac.jp/kmnist/dataset/kmnist/t10k-labels-idx1-ubyte.gz\n",
      "Downloading http://codh.rois.ac.jp/kmnist/dataset/kmnist/t10k-labels-idx1-ubyte.gz to dataset/KMNIST\\raw\\t10k-labels-idx1-ubyte.gz\n"
     ]
    },
    {
     "name": "stderr",
     "output_type": "stream",
     "text": [
      "100%|██████████| 5120/5120 [00:00<00:00, 5136291.91it/s]"
     ]
    },
    {
     "name": "stdout",
     "output_type": "stream",
     "text": [
      "Extracting dataset/KMNIST\\raw\\t10k-labels-idx1-ubyte.gz to dataset/KMNIST\\raw\n",
      "\n"
     ]
    },
    {
     "name": "stderr",
     "output_type": "stream",
     "text": [
      "\n"
     ]
    }
   ],
   "source": [
    "## Create dataloader, in PyTorch, we feed the trainer data with use of dataloader\n",
    "## We create dataloader with dataset from torchvision, \n",
    "## and we dont have to download it seperately, all automatically done\n",
    "\n",
    "# Define batch size, batch size is how much data you feed for training in one iteration\n",
    "batch_size_train = 64 # We use a small batch size here for training\n",
    "batch_size_test = 1024 #\n",
    "\n",
    "# define how image transformed\n",
    "image_transform = torchvision.transforms.Compose([\n",
    "                               torchvision.transforms.ToTensor(),\n",
    "                               torchvision.transforms.Normalize(\n",
    "                                 (0.1307,), (0.3081,))\n",
    "                             ])\n",
    "#image datasets\n",
    "train_dataset = torchvision.datasets.KMNIST('dataset/', \n",
    "                                           train=True, \n",
    "                                           download=True,\n",
    "                                           transform=image_transform)\n",
    "test_dataset = torchvision.datasets.KMNIST('dataset/', \n",
    "                                          train=False, \n",
    "                                          download=True,\n",
    "                                          transform=image_transform)\n",
    "#data loaders\n",
    "train_loader = torch.utils.data.DataLoader(train_dataset,\n",
    "                                           batch_size=batch_size_train, \n",
    "                                           shuffle=True)\n",
    "test_loader = torch.utils.data.DataLoader(test_dataset,\n",
    "                                          batch_size=batch_size_test, \n",
    "                                          shuffle=True)"
   ]
  },
  {
   "cell_type": "code",
   "execution_count": 6,
   "metadata": {},
   "outputs": [
    {
     "name": "stdout",
     "output_type": "stream",
     "text": [
      "Label: tensor(7)\n"
     ]
    },
    {
     "data": {
      "image/png": "[encoded data removed]",
      "text/plain": [
       "<Figure size 640x480 with 1 Axes>"
      ]
     },
     "metadata": {},
     "output_type": "display_data"
    }
   ],
   "source": [
    "# import library\n",
    "\n",
    "import matplotlib.pyplot as plt\n",
    "# We can check the dataloader\n",
    "_, (example_datas, labels) = next(enumerate(test_loader))\n",
    "sample = example_datas[0][0]\n",
    "# show the data\n",
    "plt.imshow(sample, cmap='gray', interpolation='none')\n",
    "print(\"Label: \"+ str(labels[0]))"
   ]
  },
  {
   "cell_type": "code",
   "execution_count": 7,
   "metadata": {},
   "outputs": [],
   "source": [
    "## Now we can start to build our CNN model\n",
    "## We first import the pytorch nn module and optimizer\n",
    "import torch.nn as nn\n",
    "import torch.nn.functional as F\n",
    "import torch.optim as optim\n",
    "## Then define the model class\n",
    "class CNN(nn.Module):\n",
    "    def __init__(self):\n",
    "        super(CNN, self).__init__()\n",
    "        #input channel 1, output channel 10\n",
    "        self.conv1 = nn.Conv2d(1, 10, kernel_size=5, stride=1)\n",
    "        #input channel 10, output channel 20\n",
    "        self.conv2 = nn.Conv2d(10, 20, kernel_size=5, stride=1)\n",
    "        #dropout layer\n",
    "        self.conv2_drop = nn.Dropout2d()\n",
    "        #fully connected layer\n",
    "        self.fc1 = nn.Linear(320, 50)\n",
    "        self.fc2 = nn.Linear(50, 10)\n",
    "    def forward(self, x):\n",
    "        x = self.conv1(x)\n",
    "        x = F.max_pool2d(x, 2)\n",
    "        x = F.relu(x)\n",
    "        x = self.conv2(x)\n",
    "        x = self.conv2_drop(x)\n",
    "        x = F.max_pool2d(x, 2)\n",
    "        x = F.relu(x)\n",
    "        x = x.view(-1, 320)\n",
    "        x = self.fc1(x)\n",
    "        x = F.relu(x)\n",
    "        x = F.dropout(x)\n",
    "        x = self.fc2(x)\n",
    "        return F.log_softmax(x)"
   ]
  },
  {
   "cell_type": "code",
   "execution_count": 8,
   "metadata": {},
   "outputs": [],
   "source": [
    "## create model and optimizer\n",
    "learning_rate = 0.01\n",
    "momentum = 0.5\n",
    "model = CNN().to(device) #using cpu here\n",
    "optimizer = optim.SGD(model.parameters(), lr=learning_rate,\n",
    "                      momentum=momentum)"
   ]
  },
  {
   "cell_type": "code",
   "execution_count": null,
   "metadata": {},
   "outputs": [],
   "source": [
    "\n",
    "from torchsummary import summary\n",
    "summary(model, (1, 28, 28))"
   ]
  },
  {
   "cell_type": "code",
   "execution_count": 17,
   "metadata": {},
   "outputs": [],
   "source": [
    "n_epochs = 8\n",
    "log_interval = 100\n",
    "train_losses = []\n",
    "train_counter = []\n",
    "test_losses = []\n",
    "test_counter = [i*len(train_loader.dataset) for i in range(n_epochs + 1)]"
   ]
  },
  {
   "cell_type": "code",
   "execution_count": 11,
   "metadata": {},
   "outputs": [],
   "source": [
    "def train(epoch):\n",
    "    model.train()\n",
    "    for batch_idx, (data, target) in enumerate(train_loader):\n",
    "        optimizer.zero_grad()\n",
    "        if torch.cuda.is_available():  \n",
    "            output = model(data.cuda())\n",
    "            loss = F.nll_loss(output, target.cuda())\n",
    "        else:\n",
    "            output = model(data)\n",
    "            loss = F.nll_loss(output, target)\n",
    "        loss.backward()\n",
    "        optimizer.step()\n",
    "        if batch_idx % log_interval == 0:\n",
    "            print('Train Epoch: {} [{}/{} ({:.0f}%)]\\tLoss: {:.6f}'.format(\n",
    "        epoch, batch_idx * len(data), len(train_loader.dataset),\n",
    "        100. * batch_idx / len(train_loader), loss.item()))\n",
    "    train_losses.append(loss.item())\n",
    "    train_counter.append(\n",
    "        (batch_idx*64) + ((epoch-1)*len(train_loader.dataset)))\n",
    "    torch.save(model.state_dict(), './results/model.pth')\n",
    "    torch.save(optimizer.state_dict(), './results/optimizer.pth')"
   ]
  },
  {
   "cell_type": "code",
   "execution_count": 12,
   "metadata": {},
   "outputs": [],
   "source": [
    "def test():\n",
    "    model.eval()\n",
    "    test_loss = 0\n",
    "    correct = 0\n",
    "    with torch.no_grad():\n",
    "        for data, target in test_loader:\n",
    "            if torch.cuda.is_available(): \n",
    "                output = model(data.cuda())\n",
    "                test_loss += F.nll_loss(output, target.cuda(), size_average=False).item()\n",
    "                pred = output.data.max(1, keepdim=True)[1]\n",
    "                correct += pred.eq(target.cuda().data.view_as(pred)).sum()\n",
    "            else:\n",
    "                output = model(data)\n",
    "                test_loss += F.nll_loss(output, target, size_average=False).item()\n",
    "                pred = output.data.max(1, keepdim=True)[1]\n",
    "                correct += pred.eq(target.data.view_as(pred)).sum()                \n",
    "    test_loss /= len(test_loader.dataset)\n",
    "    test_losses.append(test_loss)\n",
    "    print('\\nTest set: Avg. loss: {:.4f}, Accuracy: {}/{} ({:.0f}%)\\n'.format(\n",
    "        test_loss, correct, len(test_loader.dataset),\n",
    "        100. * correct / len(test_loader.dataset)))"
   ]
  },
  {
   "cell_type": "code",
   "execution_count": 18,
   "metadata": {},
   "outputs": [
    {
     "name": "stderr",
     "output_type": "stream",
     "text": [
      "C:\\Users\\jacob\\AppData\\Local\\Temp\\ipykernel_17664\\4020281764.py:32: UserWarning: Implicit dimension choice for log_softmax has been deprecated. Change the call to include dim=X as an argument.\n",
      "  return F.log_softmax(x)\n",
      "C:\\Users\\jacob\\AppData\\Local\\Packages\\PythonSoftwareFoundation.Python.3.11_qbz5n2kfra8p0\\LocalCache\\local-packages\\Python311\\site-packages\\torch\\nn\\_reduction.py:42: UserWarning: size_average and reduce args will be deprecated, please use reduction='sum' instead.\n",
      "  warnings.warn(warning.format(ret))\n"
     ]
    },
    {
     "name": "stdout",
     "output_type": "stream",
     "text": [
      "\n",
      "Test set: Avg. loss: 0.9630, Accuracy: 6909/10000 (69%)\n",
      "\n",
      "Train Epoch: 1 [0/60000 (0%)]\tLoss: 0.494574\n",
      "Train Epoch: 1 [6400/60000 (11%)]\tLoss: 0.592581\n",
      "Train Epoch: 1 [12800/60000 (21%)]\tLoss: 0.872844\n",
      "Train Epoch: 1 [19200/60000 (32%)]\tLoss: 0.645397\n",
      "Train Epoch: 1 [25600/60000 (43%)]\tLoss: 0.559973\n",
      "Train Epoch: 1 [32000/60000 (53%)]\tLoss: 0.393438\n",
      "Train Epoch: 1 [38400/60000 (64%)]\tLoss: 0.606612\n",
      "Train Epoch: 1 [44800/60000 (75%)]\tLoss: 0.904051\n",
      "Train Epoch: 1 [51200/60000 (85%)]\tLoss: 0.810823\n",
      "Train Epoch: 1 [57600/60000 (96%)]\tLoss: 0.715318\n",
      "\n",
      "Test set: Avg. loss: 0.8630, Accuracy: 7279/10000 (73%)\n",
      "\n",
      "Train Epoch: 2 [0/60000 (0%)]\tLoss: 0.594885\n",
      "Train Epoch: 2 [6400/60000 (11%)]\tLoss: 0.503758\n",
      "Train Epoch: 2 [12800/60000 (21%)]\tLoss: 0.558393\n",
      "Train Epoch: 2 [19200/60000 (32%)]\tLoss: 0.663435\n",
      "Train Epoch: 2 [25600/60000 (43%)]\tLoss: 0.484313\n",
      "Train Epoch: 2 [32000/60000 (53%)]\tLoss: 0.499266\n",
      "Train Epoch: 2 [38400/60000 (64%)]\tLoss: 0.642495\n",
      "Train Epoch: 2 [44800/60000 (75%)]\tLoss: 0.767985\n",
      "Train Epoch: 2 [51200/60000 (85%)]\tLoss: 0.574193\n",
      "Train Epoch: 2 [57600/60000 (96%)]\tLoss: 0.533443\n",
      "\n",
      "Test set: Avg. loss: 0.8208, Accuracy: 7354/10000 (74%)\n",
      "\n",
      "Train Epoch: 3 [0/60000 (0%)]\tLoss: 0.373880\n",
      "Train Epoch: 3 [6400/60000 (11%)]\tLoss: 0.444621\n",
      "Train Epoch: 3 [12800/60000 (21%)]\tLoss: 0.494668\n",
      "Train Epoch: 3 [19200/60000 (32%)]\tLoss: 0.592160\n",
      "Train Epoch: 3 [25600/60000 (43%)]\tLoss: 0.643500\n",
      "Train Epoch: 3 [32000/60000 (53%)]\tLoss: 0.616119\n",
      "Train Epoch: 3 [38400/60000 (64%)]\tLoss: 0.466026\n",
      "Train Epoch: 3 [44800/60000 (75%)]\tLoss: 0.713758\n",
      "Train Epoch: 3 [51200/60000 (85%)]\tLoss: 0.590398\n",
      "Train Epoch: 3 [57600/60000 (96%)]\tLoss: 0.464046\n",
      "\n",
      "Test set: Avg. loss: 0.7558, Accuracy: 7579/10000 (76%)\n",
      "\n",
      "Train Epoch: 4 [0/60000 (0%)]\tLoss: 0.725153\n",
      "Train Epoch: 4 [6400/60000 (11%)]\tLoss: 0.728216\n",
      "Train Epoch: 4 [12800/60000 (21%)]\tLoss: 0.375150\n",
      "Train Epoch: 4 [19200/60000 (32%)]\tLoss: 0.786121\n",
      "Train Epoch: 4 [25600/60000 (43%)]\tLoss: 0.641947\n",
      "Train Epoch: 4 [32000/60000 (53%)]\tLoss: 0.473095\n",
      "Train Epoch: 4 [38400/60000 (64%)]\tLoss: 0.418525\n",
      "Train Epoch: 4 [44800/60000 (75%)]\tLoss: 0.429757\n",
      "Train Epoch: 4 [51200/60000 (85%)]\tLoss: 0.455581\n",
      "Train Epoch: 4 [57600/60000 (96%)]\tLoss: 0.649857\n",
      "\n",
      "Test set: Avg. loss: 0.7439, Accuracy: 7618/10000 (76%)\n",
      "\n",
      "Train Epoch: 5 [0/60000 (0%)]\tLoss: 0.905128\n",
      "Train Epoch: 5 [6400/60000 (11%)]\tLoss: 0.489711\n",
      "Train Epoch: 5 [12800/60000 (21%)]\tLoss: 0.523103\n",
      "Train Epoch: 5 [19200/60000 (32%)]\tLoss: 0.455046\n",
      "Train Epoch: 5 [25600/60000 (43%)]\tLoss: 0.686581\n",
      "Train Epoch: 5 [32000/60000 (53%)]\tLoss: 0.677961\n",
      "Train Epoch: 5 [38400/60000 (64%)]\tLoss: 0.649079\n",
      "Train Epoch: 5 [44800/60000 (75%)]\tLoss: 0.627175\n",
      "Train Epoch: 5 [51200/60000 (85%)]\tLoss: 0.505256\n",
      "Train Epoch: 5 [57600/60000 (96%)]\tLoss: 0.629477\n",
      "\n",
      "Test set: Avg. loss: 0.7202, Accuracy: 7734/10000 (77%)\n",
      "\n",
      "Train Epoch: 6 [0/60000 (0%)]\tLoss: 0.490357\n",
      "Train Epoch: 6 [6400/60000 (11%)]\tLoss: 0.437431\n",
      "Train Epoch: 6 [12800/60000 (21%)]\tLoss: 0.525299\n",
      "Train Epoch: 6 [19200/60000 (32%)]\tLoss: 0.643292\n",
      "Train Epoch: 6 [25600/60000 (43%)]\tLoss: 0.397099\n",
      "Train Epoch: 6 [32000/60000 (53%)]\tLoss: 0.405218\n",
      "Train Epoch: 6 [38400/60000 (64%)]\tLoss: 0.552889\n",
      "Train Epoch: 6 [44800/60000 (75%)]\tLoss: 0.793752\n",
      "Train Epoch: 6 [51200/60000 (85%)]\tLoss: 0.445056\n",
      "Train Epoch: 6 [57600/60000 (96%)]\tLoss: 0.619578\n",
      "\n",
      "Test set: Avg. loss: 0.6873, Accuracy: 7828/10000 (78%)\n",
      "\n",
      "Train Epoch: 7 [0/60000 (0%)]\tLoss: 0.411798\n",
      "Train Epoch: 7 [6400/60000 (11%)]\tLoss: 0.331597\n",
      "Train Epoch: 7 [12800/60000 (21%)]\tLoss: 0.492024\n",
      "Train Epoch: 7 [19200/60000 (32%)]\tLoss: 0.361118\n",
      "Train Epoch: 7 [25600/60000 (43%)]\tLoss: 0.455153\n",
      "Train Epoch: 7 [32000/60000 (53%)]\tLoss: 0.309750\n",
      "Train Epoch: 7 [38400/60000 (64%)]\tLoss: 0.503301\n",
      "Train Epoch: 7 [44800/60000 (75%)]\tLoss: 0.650223\n",
      "Train Epoch: 7 [51200/60000 (85%)]\tLoss: 0.537590\n",
      "Train Epoch: 7 [57600/60000 (96%)]\tLoss: 0.830931\n",
      "\n",
      "Test set: Avg. loss: 0.6728, Accuracy: 7909/10000 (79%)\n",
      "\n",
      "Train Epoch: 8 [0/60000 (0%)]\tLoss: 0.468347\n",
      "Train Epoch: 8 [6400/60000 (11%)]\tLoss: 0.643212\n",
      "Train Epoch: 8 [12800/60000 (21%)]\tLoss: 0.389975\n",
      "Train Epoch: 8 [19200/60000 (32%)]\tLoss: 0.291022\n",
      "Train Epoch: 8 [25600/60000 (43%)]\tLoss: 0.536579\n",
      "Train Epoch: 8 [32000/60000 (53%)]\tLoss: 0.322997\n",
      "Train Epoch: 8 [38400/60000 (64%)]\tLoss: 0.546066\n",
      "Train Epoch: 8 [44800/60000 (75%)]\tLoss: 0.675113\n",
      "Train Epoch: 8 [51200/60000 (85%)]\tLoss: 0.342179\n",
      "Train Epoch: 8 [57600/60000 (96%)]\tLoss: 0.517332\n",
      "\n",
      "Test set: Avg. loss: 0.6607, Accuracy: 7910/10000 (79%)\n",
      "\n"
     ]
    }
   ],
   "source": [
    "test()\n",
    "for epoch in range(1, n_epochs + 1):\n",
    "    train(epoch)\n",
    "    test()"
   ]
  },
  {
   "cell_type": "code",
   "execution_count": 14,
   "metadata": {},
   "outputs": [
    {
     "data": {
      "text/plain": [
       "Text(0, 0.5, 'negative log likelihood loss')"
      ]
     },
     "execution_count": 14,
     "metadata": {},
     "output_type": "execute_result"
    },
    {
     "data": {
      "image/png": "[encoded data removed]",
      "text/plain": [
       "<Figure size 640x480 with 1 Axes>"
      ]
     },
     "metadata": {},
     "output_type": "display_data"
    }
   ],
   "source": [
    "fig = plt.figure()\n",
    "plt.plot(train_counter, train_losses, color='blue')\n",
    "plt.scatter(test_counter, test_losses, color='red')\n",
    "plt.legend(['Train Loss', 'Test Loss'], loc='upper right')\n",
    "plt.xlabel('number of training examples seen')\n",
    "plt.ylabel('negative log likelihood loss')\n",
    "#fig"
   ]
  }
 ],
 "metadata": {
  "kernelspec": {
   "display_name": "Python 3",
   "language": "python",
   "name": "python3"
  },
  "language_info": {
   "codemirror_mode": {
    "name": "ipython",
    "version": 3
   },
   "file_extension": ".py",
   "mimetype": "text/x-python",
   "name": "python",
   "nbconvert_exporter": "python",
   "pygments_lexer": "ipython3",
   "version": "3.11.6"
  }
 },
 "nbformat": 4,
 "nbformat_minor": 2
}
