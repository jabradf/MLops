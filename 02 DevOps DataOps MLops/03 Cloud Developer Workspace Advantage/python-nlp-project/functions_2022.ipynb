{
  "nbformat": 4,
  "nbformat_minor": 0,
  "metadata": {
    "colab": {
      "name": "functions-2022.ipynb",
      "provenance": []
    },
    "kernelspec": {
      "name": "python3",
      "display_name": "Python 3"
    },
    "language_info": {
      "name": "python"
    }
  },
  "cells": [
    {
      "cell_type": "markdown",
      "source": [
        "## Simple Function Top"
      ],
      "metadata": {
        "id": "wTlyMgnc50hS"
      }
    },
    {
      "cell_type": "code",
      "source": [
        ""
      ],
      "metadata": {
        "id": "sOv47fig54rM"
      },
      "execution_count": null,
      "outputs": []
    },
    {
      "cell_type": "markdown",
      "source": [
        "### Simple Functions"
      ],
      "metadata": {
        "id": "tqoIqLo_53Oz"
      }
    },
    {
      "cell_type": "code",
      "execution_count": 1,
      "metadata": {
        "id": "CfOmDZao5vcA"
      },
      "outputs": [],
      "source": [
        "def nothing():pass"
      ]
    },
    {
      "cell_type": "code",
      "source": [
        "value = nothing()"
      ],
      "metadata": {
        "id": "sWLx-W4T5-JD"
      },
      "execution_count": 2,
      "outputs": []
    },
    {
      "cell_type": "code",
      "source": [
        ""
      ],
      "metadata": {
        "id": "y7WuZig16DZr"
      },
      "execution_count": null,
      "outputs": []
    },
    {
      "cell_type": "markdown",
      "source": [
        "### Return Something"
      ],
      "metadata": {
        "id": "SsKAvXWi6Kc7"
      }
    },
    {
      "cell_type": "code",
      "source": [
        "def number():\n",
        "    return 1"
      ],
      "metadata": {
        "id": "zEDOngtw6NlU"
      },
      "execution_count": 3,
      "outputs": []
    },
    {
      "cell_type": "code",
      "source": [
        "num = number()"
      ],
      "metadata": {
        "id": "7uV7RiGW6SCk"
      },
      "execution_count": 4,
      "outputs": []
    },
    {
      "cell_type": "code",
      "source": [
        ""
      ],
      "metadata": {
        "id": "NBBIZ4jW6Uxb"
      },
      "execution_count": null,
      "outputs": []
    },
    {
      "cell_type": "markdown",
      "source": [
        "### Logic Inside"
      ],
      "metadata": {
        "id": "pIpUq4Ee6cfx"
      }
    },
    {
      "cell_type": "code",
      "source": [
        "def logic():\n",
        "    x = 1\n",
        "    y = 2\n",
        "    return x+y"
      ],
      "metadata": {
        "id": "-WcaFZxF6gIE"
      },
      "execution_count": 5,
      "outputs": []
    },
    {
      "cell_type": "code",
      "source": [
        "print(logic())"
      ],
      "metadata": {
        "colab": {
          "base_uri": "https://localhost:8080/"
        },
        "id": "ry5692E26lhT",
        "outputId": "d5d28bbb-d9a2-460d-f280-6ca377401c35"
      },
      "execution_count": 7,
      "outputs": [
        {
          "output_type": "stream",
          "name": "stdout",
          "text": [
            "3\n"
          ]
        }
      ]
    },
    {
      "cell_type": "code",
      "source": [
        ""
      ],
      "metadata": {
        "id": "bNK_SlzO6n4U"
      },
      "execution_count": null,
      "outputs": []
    },
    {
      "cell_type": "markdown",
      "source": [
        "### Input Functions"
      ],
      "metadata": {
        "id": "fnVbt_QT6veg"
      }
    },
    {
      "cell_type": "code",
      "source": [
        "def add(x,y):\n",
        "    calculation = x + y\n",
        "    return calculation\n"
      ],
      "metadata": {
        "id": "UEBqrpuM6xwe"
      },
      "execution_count": 8,
      "outputs": []
    },
    {
      "cell_type": "code",
      "source": [
        "add(2,3)"
      ],
      "metadata": {
        "colab": {
          "base_uri": "https://localhost:8080/"
        },
        "id": "TGrNrkIw68oh",
        "outputId": "bab7e5b9-e5f8-4d3b-8bf9-01810cd030a4"
      },
      "execution_count": 9,
      "outputs": [
        {
          "output_type": "execute_result",
          "data": {
            "text/plain": [
              "5"
            ]
          },
          "metadata": {},
          "execution_count": 9
        }
      ]
    },
    {
      "cell_type": "code",
      "source": [
        ""
      ],
      "metadata": {
        "id": "ubYgB-H76926"
      },
      "execution_count": null,
      "outputs": []
    },
    {
      "cell_type": "markdown",
      "source": [
        "### Complete Function with Documentation"
      ],
      "metadata": {
        "id": "j3-Mzdq07Cr7"
      }
    },
    {
      "cell_type": "code",
      "source": [
        "def more_add(x,y):\n",
        "    \"\"\"This function adds values together\"\"\"\n",
        "    calculation = x + y\n",
        "    return calculation\n",
        "\n"
      ],
      "metadata": {
        "id": "yuSJGVKI7GB6"
      },
      "execution_count": 10,
      "outputs": []
    },
    {
      "cell_type": "code",
      "source": [
        "result = more_add(2,2)"
      ],
      "metadata": {
        "id": "xxSr3rBL7SHi"
      },
      "execution_count": 11,
      "outputs": []
    },
    {
      "cell_type": "code",
      "source": [
        "result"
      ],
      "metadata": {
        "colab": {
          "base_uri": "https://localhost:8080/"
        },
        "id": "4tRtnFUw7VfK",
        "outputId": "d6012bf9-240d-4ed4-c65d-40e0cc75868e"
      },
      "execution_count": 12,
      "outputs": [
        {
          "output_type": "execute_result",
          "data": {
            "text/plain": [
              "4"
            ]
          },
          "metadata": {},
          "execution_count": 12
        }
      ]
    },
    {
      "cell_type": "code",
      "source": [
        "more_add.__doc__"
      ],
      "metadata": {
        "colab": {
          "base_uri": "https://localhost:8080/",
          "height": 35
        },
        "id": "p0btF2Pd7WQq",
        "outputId": "ac264652-0308-4f8d-cd61-559bed601ae2"
      },
      "execution_count": 13,
      "outputs": [
        {
          "output_type": "execute_result",
          "data": {
            "text/plain": [
              "'This function adds values together'"
            ],
            "application/vnd.google.colaboratory.intrinsic+json": {
              "type": "string"
            }
          },
          "metadata": {},
          "execution_count": 13
        }
      ]
    },
    {
      "cell_type": "code",
      "source": [
        ""
      ],
      "metadata": {
        "id": "Bb8ic7Ze7Y-a"
      },
      "execution_count": null,
      "outputs": []
    },
    {
      "cell_type": "markdown",
      "source": [
        "### Keyword arguments"
      ],
      "metadata": {
        "id": "vTepUdWS7jWt"
      }
    },
    {
      "cell_type": "code",
      "source": [
        "def keyword_add(x=1,y=2):\n",
        "    \"\"\"This is a keyword style add function\"\"\"\n",
        "    result = x+y\n",
        "    print(f\"This is my result: {result}\")\n"
      ],
      "metadata": {
        "id": "7IN6HW6J7mPb"
      },
      "execution_count": 14,
      "outputs": []
    },
    {
      "cell_type": "code",
      "source": [
        "keyword_add()"
      ],
      "metadata": {
        "colab": {
          "base_uri": "https://localhost:8080/"
        },
        "id": "Aobpl2Co78Tp",
        "outputId": "c7694486-0fd4-48e8-9249-b981c6f6bec1"
      },
      "execution_count": 15,
      "outputs": [
        {
          "output_type": "stream",
          "name": "stdout",
          "text": [
            "This is my result: 3\n"
          ]
        }
      ]
    },
    {
      "cell_type": "code",
      "source": [
        ""
      ],
      "metadata": {
        "id": "0Gx_-qQo7-rS"
      },
      "execution_count": null,
      "outputs": []
    },
    {
      "cell_type": "markdown",
      "source": [
        "### Infinite Arguments"
      ],
      "metadata": {
        "id": "jV38WtKY8Chu"
      }
    },
    {
      "cell_type": "code",
      "source": [
        "def infinite(**kwargs):\n",
        "    \"\"\"This takes infinite keyword arguments\"\"\"\n",
        "\n",
        "    for key, value in kwargs.items():\n",
        "        print(f\"key: {key}, value: {value}\")"
      ],
      "metadata": {
        "id": "9d3JkNKK8F4K"
      },
      "execution_count": 16,
      "outputs": []
    },
    {
      "cell_type": "code",
      "source": [
        "infinite(x=1)"
      ],
      "metadata": {
        "colab": {
          "base_uri": "https://localhost:8080/"
        },
        "id": "LlmSE4BT8eyi",
        "outputId": "bebf36ad-1c3c-4498-f9c9-12095be5d6be"
      },
      "execution_count": 17,
      "outputs": [
        {
          "output_type": "stream",
          "name": "stdout",
          "text": [
            "key: x, value: 1\n"
          ]
        }
      ]
    },
    {
      "cell_type": "code",
      "source": [
        "infinite(x=1, y=2)"
      ],
      "metadata": {
        "colab": {
          "base_uri": "https://localhost:8080/"
        },
        "id": "rOzzwj5t8gyC",
        "outputId": "bb43f135-8105-4f75-a2d7-c9ac906b97d4"
      },
      "execution_count": 18,
      "outputs": [
        {
          "output_type": "stream",
          "name": "stdout",
          "text": [
            "key: x, value: 1\n",
            "key: y, value: 2\n"
          ]
        }
      ]
    },
    {
      "cell_type": "code",
      "source": [
        "infinite(x=1, y=2, z=20000)"
      ],
      "metadata": {
        "colab": {
          "base_uri": "https://localhost:8080/"
        },
        "id": "8oKZh0PE8jW6",
        "outputId": "c35bc178-09c2-4c16-b8ca-100b5c49bca8"
      },
      "execution_count": 19,
      "outputs": [
        {
          "output_type": "stream",
          "name": "stdout",
          "text": [
            "key: x, value: 1\n",
            "key: y, value: 2\n",
            "key: z, value: 20000\n"
          ]
        }
      ]
    },
    {
      "cell_type": "code",
      "source": [
        ""
      ],
      "metadata": {
        "id": "Bt5D78pi8mbx"
      },
      "execution_count": null,
      "outputs": []
    },
    {
      "cell_type": "code",
      "source": [
        ""
      ],
      "metadata": {
        "id": "FWUXr3MQ8zpv"
      },
      "execution_count": null,
      "outputs": []
    },
    {
      "cell_type": "markdown",
      "source": [
        "## Complex Functions"
      ],
      "metadata": {
        "id": "Nxp08knV80N_"
      }
    },
    {
      "cell_type": "markdown",
      "source": [
        "### Decorator"
      ],
      "metadata": {
        "id": "mjV3W8_E82tM"
      }
    },
    {
      "cell_type": "code",
      "source": [
        "from functools import wraps\n",
        "from time import time\n",
        "\n",
        "def timing(f):\n",
        "    @wraps(f)\n",
        "    def wrap(*args, **kw):\n",
        "        ts = time()\n",
        "        result = f(*args, **kw)\n",
        "        te = time()\n",
        "        print(f\"function_name: {f.__name__}, args: [{args}, {kw}] took: {te-ts} sec\")\n",
        "        print(f\"docstring: {f.__doc__}\")\n",
        "        return result\n",
        "    return wrap"
      ],
      "metadata": {
        "id": "rkPaP-ci81qx"
      },
      "execution_count": 25,
      "outputs": []
    },
    {
      "cell_type": "code",
      "source": [
        "from time import sleep\n",
        "\n",
        "@timing\n",
        "def slow_calc(x=1000,y=2000):\n",
        "    \"\"\"This is a simulated slow calculation\"\"\"\n",
        "    sleep(3)    #simulates slow calculation\n",
        "    result = x+y\n",
        "    return result\n",
        "\n"
      ],
      "metadata": {
        "id": "dYKNuPaW9faF"
      },
      "execution_count": 26,
      "outputs": []
    },
    {
      "cell_type": "code",
      "source": [
        "value = slow_calc(x=2, y=3)"
      ],
      "metadata": {
        "colab": {
          "base_uri": "https://localhost:8080/"
        },
        "id": "TUovFNai9z3E",
        "outputId": "b6622050-3104-45e7-fab3-da0b18e54301"
      },
      "execution_count": 27,
      "outputs": [
        {
          "output_type": "stream",
          "name": "stdout",
          "text": [
            "function_name: slow_calc, args: [(), {'x': 2, 'y': 3}] took: 3.0031137466430664 sec\n",
            "docstring: This is a simulated slow calculation\n"
          ]
        }
      ]
    },
    {
      "cell_type": "code",
      "source": [
        ""
      ],
      "metadata": {
        "id": "xUxFmT38-FEc"
      },
      "execution_count": null,
      "outputs": []
    },
    {
      "cell_type": "markdown",
      "source": [
        "### Closure"
      ],
      "metadata": {
        "id": "wFlYCM15-not"
      }
    },
    {
      "cell_type": "code",
      "source": [
        "#nonlocal cannot modify this variable\n",
        "#lower_body_counter=5\n",
        "def attack_counter():\n",
        "    \"\"\"Counts number of attacks on part of body\"\"\"\n",
        "    lower_body_counter = 0\n",
        "    upper_body_counter = 0\n",
        "    #print(lower_body_counter)\n",
        "    def attack_filter(attack):\n",
        "        nonlocal lower_body_counter\n",
        "        nonlocal upper_body_counter\n",
        "        attacks = {\"kimura\": \"upper_body\",\n",
        "           \"straight_ankle_lock\":\"lower_body\", \n",
        "           \"arm_triangle\":\"upper_body\",\n",
        "            \"keylock\": \"upper_body\",\n",
        "            \"knee_bar\": \"lower_body\"}\n",
        "        if attack in attacks:\n",
        "            if attacks[attack] == \"upper_body\":\n",
        "                upper_body_counter +=1\n",
        "            if attacks[attack] == \"lower_body\":\n",
        "                lower_body_counter +=1\n",
        "        print(f\"Upper Body Attacks {upper_body_counter}, Lower Body Attacks {lower_body_counter}\")\n",
        "    return attack_filter"
      ],
      "metadata": {
        "id": "qOu3bPEZ-pHW"
      },
      "execution_count": 29,
      "outputs": []
    },
    {
      "cell_type": "code",
      "source": [
        "attack = attack_counter()"
      ],
      "metadata": {
        "id": "cIIhlcDm-tkd"
      },
      "execution_count": 30,
      "outputs": []
    },
    {
      "cell_type": "code",
      "source": [
        "attack(\"kimura\")"
      ],
      "metadata": {
        "colab": {
          "base_uri": "https://localhost:8080/"
        },
        "id": "4GaiHOB__RKU",
        "outputId": "1679092f-bbd6-4ac0-85e4-85292ca42b39"
      },
      "execution_count": 32,
      "outputs": [
        {
          "output_type": "stream",
          "name": "stdout",
          "text": [
            "Upper Body Attacks 1, Lower Body Attacks 0\n"
          ]
        }
      ]
    },
    {
      "cell_type": "code",
      "source": [
        "attack(\"kimura\")"
      ],
      "metadata": {
        "colab": {
          "base_uri": "https://localhost:8080/"
        },
        "id": "5c7h4PEX_SYc",
        "outputId": "ae492b44-d7d6-48eb-bfbc-73dae7611b0e"
      },
      "execution_count": 33,
      "outputs": [
        {
          "output_type": "stream",
          "name": "stdout",
          "text": [
            "Upper Body Attacks 2, Lower Body Attacks 0\n"
          ]
        }
      ]
    },
    {
      "cell_type": "code",
      "source": [
        "attack(\"knee_bar\")"
      ],
      "metadata": {
        "colab": {
          "base_uri": "https://localhost:8080/"
        },
        "id": "DCMG1mnJ_cuf",
        "outputId": "ba10bcfe-25bc-45a5-c784-f1c525a58392"
      },
      "execution_count": 34,
      "outputs": [
        {
          "output_type": "stream",
          "name": "stdout",
          "text": [
            "Upper Body Attacks 2, Lower Body Attacks 1\n"
          ]
        }
      ]
    },
    {
      "cell_type": "markdown",
      "source": [
        "### Randomized Sleep + Attack Closure"
      ],
      "metadata": {
        "id": "6McWKqSg_pOG"
      }
    },
    {
      "cell_type": "code",
      "source": [
        "def randomized_speed_attack_decorator(function):\n",
        "    \"\"\"Randomizes the speed of attacks\"\"\"\n",
        "    \n",
        "    import time\n",
        "    import random\n",
        "    \n",
        "    def wrapper_func(*args, **kwargs):\n",
        "        sleep_time = random.randint(0,3)\n",
        "        print(f\"Attacking after {sleep_time} seconds\")\n",
        "        time.sleep(sleep_time)\n",
        "        return function(*args, **kwargs)\n",
        "    return wrapper_func"
      ],
      "metadata": {
        "id": "po7ZjF1D_gS1"
      },
      "execution_count": 35,
      "outputs": []
    },
    {
      "cell_type": "code",
      "source": [
        "@randomized_speed_attack_decorator\n",
        "def lazy_return_random_attacks():\n",
        "    \"\"\"Yield attacks each time\"\"\"\n",
        "    import random\n",
        "    attacks = {\"kimura\": \"upper_body\",\n",
        "           \"straight_ankle_lock\":\"lower_body\", \n",
        "           \"arm_triangle\":\"upper_body\",\n",
        "            \"keylock\": \"upper_body\",\n",
        "            \"knee_bar\": \"lower_body\"}\n",
        "    while True:\n",
        "        random_attack = random.choices(list(attacks.keys()))\n",
        "        yield random_attack"
      ],
      "metadata": {
        "id": "MQ5JSB2R_s_E"
      },
      "execution_count": 36,
      "outputs": []
    },
    {
      "cell_type": "code",
      "source": [
        "for _ in range(5):\n",
        "    print(next(lazy_return_random_attacks()))"
      ],
      "metadata": {
        "colab": {
          "base_uri": "https://localhost:8080/"
        },
        "id": "eqBxj9tIAAlQ",
        "outputId": "89b4b4f2-b2d3-463d-ee1f-7fee2d9c0476"
      },
      "execution_count": 37,
      "outputs": [
        {
          "output_type": "stream",
          "name": "stdout",
          "text": [
            "Attacking after 1 seconds\n",
            "['keylock']\n",
            "Attacking after 3 seconds\n",
            "['kimura']\n",
            "Attacking after 0 seconds\n",
            "['kimura']\n",
            "Attacking after 3 seconds\n",
            "['keylock']\n",
            "Attacking after 2 seconds\n",
            "['straight_ankle_lock']\n"
          ]
        }
      ]
    },
    {
      "cell_type": "code",
      "source": [
        ""
      ],
      "metadata": {
        "id": "hrwFyJ9CABI1"
      },
      "execution_count": null,
      "outputs": []
    },
    {
      "cell_type": "markdown",
      "source": [
        "### Partial Functions"
      ],
      "metadata": {
        "id": "El9BspdkALS7"
      }
    },
    {
      "cell_type": "code",
      "source": [
        "from functools import partial\n",
        "\n",
        "def multiple_attacks(attack_one, attack_two):\n",
        "  \"\"\"Performs two attacks\"\"\"\n",
        "  \n",
        "  print(f\"First Attack {attack_one}\")\n",
        "  print(f\"Second Attack {attack_two}\")\n",
        "  \n",
        "attack_this = partial(multiple_attacks, \"kimura\")\n",
        "type(attack_this)"
      ],
      "metadata": {
        "colab": {
          "base_uri": "https://localhost:8080/"
        },
        "id": "huwaH7btANCz",
        "outputId": "bded9593-d337-48d1-e532-6637806254e1"
      },
      "execution_count": 38,
      "outputs": [
        {
          "output_type": "execute_result",
          "data": {
            "text/plain": [
              "functools.partial"
            ]
          },
          "metadata": {},
          "execution_count": 38
        }
      ]
    },
    {
      "cell_type": "code",
      "source": [
        "attack_this(\"leg lock\")"
      ],
      "metadata": {
        "colab": {
          "base_uri": "https://localhost:8080/"
        },
        "id": "6q3KEOfrAhg_",
        "outputId": "83c6b9d0-e683-445c-c73d-0b36e68d3c8a"
      },
      "execution_count": 39,
      "outputs": [
        {
          "output_type": "stream",
          "name": "stdout",
          "text": [
            "First Attack kimura\n",
            "Second Attack leg lock\n"
          ]
        }
      ]
    },
    {
      "cell_type": "markdown",
      "source": [
        "Data Engineering Pipeline"
      ],
      "metadata": {
        "id": "In2I8PVJAorW"
      }
    },
    {
      "cell_type": "code",
      "source": [
        "from functools import partial\n",
        "\n",
        "def etl_pipeline(extract, load, transform):\n",
        "    \"\"\"This is a pipeline partial function\"\"\"\n",
        "\n",
        "    print(f\"Extract phase: {extract}\")\n",
        "    print(f\"Load phase: {load}\")\n",
        "    print(f\"transform phase: {transform}\")\n"
      ],
      "metadata": {
        "id": "KOVwEzDJAk77"
      },
      "execution_count": 43,
      "outputs": []
    },
    {
      "cell_type": "code",
      "source": [
        "import datetime\n",
        "now = datetime.datetime.now()\n",
        "print(now)"
      ],
      "metadata": {
        "colab": {
          "base_uri": "https://localhost:8080/"
        },
        "id": "YBdSyvUzBAM5",
        "outputId": "3981cf97-98b8-4f46-e1f4-3a2778a3267f"
      },
      "execution_count": 42,
      "outputs": [
        {
          "output_type": "stream",
          "name": "stdout",
          "text": [
            "2022-08-08 10:34:19.367752\n"
          ]
        }
      ]
    },
    {
      "cell_type": "code",
      "source": [
        "pipeline = partial(etl_pipeline, datetime.datetime.now(), datetime.datetime.now())\n"
      ],
      "metadata": {
        "id": "bYemnycKBJx7"
      },
      "execution_count": 48,
      "outputs": []
    },
    {
      "cell_type": "code",
      "source": [
        "type(pipeline)"
      ],
      "metadata": {
        "colab": {
          "base_uri": "https://localhost:8080/"
        },
        "id": "Jb3nlS82BcvO",
        "outputId": "c5174305-d5ee-42ba-9e6a-e8af69db4b7b"
      },
      "execution_count": 49,
      "outputs": [
        {
          "output_type": "execute_result",
          "data": {
            "text/plain": [
              "functools.partial"
            ]
          },
          "metadata": {},
          "execution_count": 49
        }
      ]
    },
    {
      "cell_type": "code",
      "source": [
        "pipeline(datetime.datetime.now())"
      ],
      "metadata": {
        "colab": {
          "base_uri": "https://localhost:8080/"
        },
        "id": "GkAXZjrdBdk8",
        "outputId": "afce6250-2e77-44bb-bccc-bd440106707a"
      },
      "execution_count": 50,
      "outputs": [
        {
          "output_type": "stream",
          "name": "stdout",
          "text": [
            "Extract phase: 2022-08-08 10:36:51.480023\n",
            "Load phase: 2022-08-08 10:36:51.480030\n",
            "transform phase: 2022-08-08 10:37:00.918553\n"
          ]
        }
      ]
    },
    {
      "cell_type": "code",
      "source": [
        ""
      ],
      "metadata": {
        "id": "7nhCvsPxBjoz"
      },
      "execution_count": null,
      "outputs": []
    },
    {
      "cell_type": "markdown",
      "source": [
        "## Utilities in Python Functions"
      ],
      "metadata": {
        "id": "pf8fUPX9CE6V"
      }
    },
    {
      "cell_type": "markdown",
      "source": [
        "#### Write YAML"
      ],
      "metadata": {
        "id": "FbJ1VR_PCX-K"
      }
    },
    {
      "cell_type": "code",
      "source": [
        "mydict = {\"one\":1, \"two\":2}"
      ],
      "metadata": {
        "id": "gppsxFw6CHPz"
      },
      "execution_count": 51,
      "outputs": []
    },
    {
      "cell_type": "code",
      "source": [
        "import yaml"
      ],
      "metadata": {
        "id": "CwnntzC9Cb8G"
      },
      "execution_count": 52,
      "outputs": []
    },
    {
      "cell_type": "code",
      "source": [
        "with open(\"data.yaml\", \"w\") as yamlfile:                                               \n",
        "    yaml.safe_dump(mydict, yamlfile, default_flow_style=False)"
      ],
      "metadata": {
        "id": "i7pqQe9-Cfj7"
      },
      "execution_count": 53,
      "outputs": []
    },
    {
      "cell_type": "code",
      "source": [
        "cat data.yaml"
      ],
      "metadata": {
        "colab": {
          "base_uri": "https://localhost:8080/"
        },
        "id": "oUa4wanrCvqE",
        "outputId": "4507810e-6ee2-4fcf-f053-97c8d59bf82a"
      },
      "execution_count": 54,
      "outputs": [
        {
          "output_type": "stream",
          "name": "stdout",
          "text": [
            "one: 1\n",
            "two: 2\n"
          ]
        }
      ]
    },
    {
      "cell_type": "code",
      "source": [
        ""
      ],
      "metadata": {
        "id": "02m7DcplCywc"
      },
      "execution_count": null,
      "outputs": []
    },
    {
      "cell_type": "markdown",
      "source": [
        "#### Read a YAML"
      ],
      "metadata": {
        "id": "iOVpfWjAC0sf"
      }
    },
    {
      "cell_type": "code",
      "source": [
        "with open(\"data.yaml\", \"rb\") as yamlfile:                                               \n",
        "    res3 = yaml.safe_load(yamlfile)"
      ],
      "metadata": {
        "id": "DRPPIrzYC4Vr"
      },
      "execution_count": 55,
      "outputs": []
    },
    {
      "cell_type": "code",
      "source": [
        "res3"
      ],
      "metadata": {
        "colab": {
          "base_uri": "https://localhost:8080/"
        },
        "id": "lZL73H3jC6kb",
        "outputId": "7911f69e-c36b-452e-e252-8fb641aa60dd"
      },
      "execution_count": 56,
      "outputs": [
        {
          "output_type": "execute_result",
          "data": {
            "text/plain": [
              "{'one': 1, 'two': 2}"
            ]
          },
          "metadata": {},
          "execution_count": 56
        }
      ]
    },
    {
      "cell_type": "code",
      "source": [
        ""
      ],
      "metadata": {
        "id": "DcHNjWKsC7RF"
      },
      "execution_count": null,
      "outputs": []
    },
    {
      "cell_type": "markdown",
      "source": [
        "#### Read a YAML function"
      ],
      "metadata": {
        "id": "tRBayvEnC-5B"
      }
    },
    {
      "cell_type": "code",
      "source": [
        "def read_yaml(yaml_file):\n",
        "    \"\"\"This is my YAML reader function\"\"\"\n",
        "    with open(yaml_file, \"rb\") as yamlfile:                                               \n",
        "        yaml_content = yaml.safe_load(yamlfile)\n",
        "    return yaml_content\n",
        "\n",
        "\n"
      ],
      "metadata": {
        "id": "ABnvmjlzDCw1"
      },
      "execution_count": 58,
      "outputs": []
    },
    {
      "cell_type": "code",
      "source": [
        "my_yaml_content = read_yaml(\"data.yaml\")"
      ],
      "metadata": {
        "id": "_xVw2zdFDKCr"
      },
      "execution_count": 59,
      "outputs": []
    },
    {
      "cell_type": "code",
      "source": [
        "print(my_yaml_content)"
      ],
      "metadata": {
        "colab": {
          "base_uri": "https://localhost:8080/"
        },
        "id": "vHpkYF9QDfaG",
        "outputId": "0a9e910b-956d-4828-df9c-7ade22f7a9ef"
      },
      "execution_count": 60,
      "outputs": [
        {
          "output_type": "stream",
          "name": "stdout",
          "text": [
            "{'one': 1, 'two': 2}\n"
          ]
        }
      ]
    },
    {
      "cell_type": "code",
      "source": [
        ""
      ],
      "metadata": {
        "id": "W35FDfX0Dg8c"
      },
      "execution_count": null,
      "outputs": []
    }
  ]
}